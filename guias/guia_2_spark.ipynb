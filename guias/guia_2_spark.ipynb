{
 "cells": [
  {
   "cell_type": "markdown",
   "metadata": {},
   "source": [
    "# Codeado por Franco M. Di Maria"
   ]
  },
  {
   "cell_type": "markdown",
   "metadata": {},
   "source": [
    "# Guia 2 : Spark"
   ]
  },
  {
   "cell_type": "markdown",
   "metadata": {},
   "source": [
    "## Funciones auxiliares "
   ]
  },
  {
   "cell_type": "code",
   "execution_count": 175,
   "metadata": {},
   "outputs": [],
   "source": [
    "import random\n",
    "import time\n",
    "\n",
    "# By Tom Alsberg and Boris (StackOverflow) \n",
    "def str_time_prop(start, end, format, prop):\n",
    "    \"\"\"Get a time at a proportion of a range of two formatted times.\n",
    "\n",
    "    start and end should be strings specifying times formated in the\n",
    "    given format (strftime-style), giving an interval [start, end].\n",
    "    prop specifies how a proportion of the interval to be taken after\n",
    "    start.  The returned time will be in the specified format.\n",
    "    \"\"\"\n",
    "\n",
    "    stime = time.mktime(time.strptime(start, format))\n",
    "    etime = time.mktime(time.strptime(end, format))\n",
    "\n",
    "    ptime = stime + prop * (etime - stime)\n",
    "\n",
    "    return time.strftime(format, time.localtime(ptime))\n",
    "\n",
    "\n",
    "def random_date(start, end):\n",
    "    return str_time_prop(start, end, '%Y-%m-%d', random.random())"
   ]
  },
  {
   "cell_type": "markdown",
   "metadata": {},
   "source": [
    "## Ejercicio 1"
   ]
  },
  {
   "cell_type": "markdown",
   "metadata": {},
   "source": [
    "1-Se tiene un RDD con el registro de notas de los alumnos de la forma (padrón, materia, nota, fecha). Se pide resolver utilizando PySpark:\n",
    "* A.Cuántos alumnos aprobaron al menos 1 materia en los últimos 2 años.\n",
    "* B. Un RDD conteniendo el promedio de notas de cada alumno de la forma (padrón, promedio).\n",
    "* C.El nombre y apellido del alumno con mejor promedio. Para esto pued eutilizarse un segundo RDD alumnos con registros (padron, nombre y apellido)."
   ]
  },
  {
   "cell_type": "markdown",
   "metadata": {},
   "source": [
    "### Set de datos"
   ]
  },
  {
   "cell_type": "code",
   "execution_count": 102,
   "metadata": {},
   "outputs": [],
   "source": [
    "pre_data_1_notas = [\n",
    "    (100498, 'Datos', 10, '2019-9-16'),\n",
    "    (100499, 'Datos', 9, '2019-9-17'),\n",
    "    (100500, 'Datos', 8, '2019-9-18'),\n",
    "    (100501, 'Datos', 7, '2019-9-19'),\n",
    "    (100502, 'Datos', 7, '2019-9-20'),\n",
    "    (100498, 'Taller', 9, '2019-6-1'),\n",
    "    (100499, 'Taller', 6, '2019-6-2'),\n",
    "    (100500, 'Taller', 8, '2019-6-3'),\n",
    "    (100501, 'Taller', 8, '2019-6-4'),\n",
    "    (100502, 'Taller', 9, '2019-6-5'),\n",
    "    (100498, 'Proba', 8, '2018-11-11'),\n",
    "    (100499, 'Proba', 6, '2018-11-12'),\n",
    "    (100500, 'Proba', 6, '2018-11-13'),\n",
    "    (100501, 'Proba', 7, '2018-11-14'),   \n",
    "    (100502, 'Proba', 8, '2018-11-15'),\n",
    "]\n",
    "\n",
    "rdd_1 = sc.parallelize(pre_data_1_notas)\n",
    "#rdd_1.collect()"
   ]
  },
  {
   "cell_type": "markdown",
   "metadata": {},
   "source": [
    "### A.Cuántos alumnos aprobaron al menos 1 materia en los últimos 2 años."
   ]
  },
  {
   "cell_type": "markdown",
   "metadata": {},
   "source": [
    "##### RESOLUCION 1"
   ]
  },
  {
   "cell_type": "code",
   "execution_count": 144,
   "metadata": {},
   "outputs": [
    {
     "data": {
      "text/plain": [
       "5"
      ]
     },
     "execution_count": 144,
     "metadata": {},
     "output_type": "execute_result"
    }
   ],
   "source": [
    "rdd_1.filter( lambda x: (x[2] >= 4) & (x[3] > \"2018-1-1\") & (x[3] < \"2018-12-31\") )\\\n",
    "    .map( lambda x: x[0] )\\\n",
    "    .distinct()\\\n",
    "    .count()"
   ]
  },
  {
   "cell_type": "markdown",
   "metadata": {},
   "source": [
    "##### RESOLUCION 2"
   ]
  },
  {
   "cell_type": "code",
   "execution_count": 143,
   "metadata": {
    "scrolled": true
   },
   "outputs": [
    {
     "data": {
      "text/plain": [
       "5"
      ]
     },
     "execution_count": 143,
     "metadata": {},
     "output_type": "execute_result"
    }
   ],
   "source": [
    "rdd_1.filter( lambda x: (x[2] >= 4) & (x[3] > \"2018-1-1\") & (x[3] < \"2018-12-31\") )\\\n",
    "    .flatMap( lambda x: (x[0],) )\\\n",
    "    .distinct()\\\n",
    "    .count()"
   ]
  },
  {
   "cell_type": "markdown",
   "metadata": {},
   "source": [
    "##### RESOLUCION 3"
   ]
  },
  {
   "cell_type": "code",
   "execution_count": 142,
   "metadata": {},
   "outputs": [
    {
     "data": {
      "text/plain": [
       "5"
      ]
     },
     "execution_count": 142,
     "metadata": {},
     "output_type": "execute_result"
    }
   ],
   "source": [
    "rdd_1.filter( lambda x: (x[2] >= 4) & (x[3] > \"2018-1-1\") & (x[3] < \"2018-12-31\") )\\\n",
    "    .map( lambda x: (x[0],1) )\\\n",
    "    .reduceByKey( lambda x, y: x )\\\n",
    "    .count()"
   ]
  },
  {
   "cell_type": "markdown",
   "metadata": {},
   "source": [
    "### B. Un RDD conteniendo el promedio de notas de cada alumno de la forma (padrón, promedio)."
   ]
  },
  {
   "cell_type": "code",
   "execution_count": 150,
   "metadata": {
    "scrolled": true
   },
   "outputs": [
    {
     "data": {
      "text/plain": [
       "[(100498, 9.0),\n",
       " (100499, 7.0),\n",
       " (100500, 7.333333333333333),\n",
       " (100501, 7.333333333333333),\n",
       " (100502, 8.0)]"
      ]
     },
     "execution_count": 150,
     "metadata": {},
     "output_type": "execute_result"
    }
   ],
   "source": [
    "rdd_1_promedios = rdd_1.map( lambda x: (x[0], (x[2], 1)) )\\\n",
    "                    .reduceByKey( lambda x, y: (x[0] + y[0], x[1] + y[1]) )\\\n",
    "                    .map( lambda x: (x[0], x[1][0] / x[1][1]) )\n",
    "rdd_1_promedios.collect()"
   ]
  },
  {
   "cell_type": "markdown",
   "metadata": {},
   "source": [
    "### C.El nombre y apellido del alumno con mejor promedio. Para esto puede utilizarse un segundo RDD alumnos con registros (padron, nombre y apellido)."
   ]
  },
  {
   "cell_type": "markdown",
   "metadata": {},
   "source": [
    "#### Set de datos auxiliar"
   ]
  },
  {
   "cell_type": "code",
   "execution_count": 151,
   "metadata": {},
   "outputs": [],
   "source": [
    "pre_data_1_alumnos = [\n",
    "    (100498, 'Franco Martin', 'Di Maria'),\n",
    "    (100499, 'Alumno B', 'Ble Ble'),\n",
    "    (100500, 'Alumno C', 'Bli Bli'),\n",
    "    (100501, 'Alumno D', 'Blo Blo'),\n",
    "    (100502, 'Alumno E', 'Blu Blu'),\n",
    "]\n",
    "\n",
    "rdd_1_alumnos = sc. parallelize(pre_data_1_aux)"
   ]
  },
  {
   "cell_type": "markdown",
   "metadata": {},
   "source": [
    "##### RESOLUCION 1 "
   ]
  },
  {
   "cell_type": "code",
   "execution_count": 159,
   "metadata": {},
   "outputs": [
    {
     "data": {
      "text/plain": [
       "[(100498, 'Franco Martin Di Maria', 9.0)]"
      ]
     },
     "execution_count": 159,
     "metadata": {},
     "output_type": "execute_result"
    }
   ],
   "source": [
    "rdd_1_alumnos_por_padron = rdd_1_alumnos.map( lambda x: (x[0], x[1] + ' ' + x[2]) )\n",
    "padron_promedio_max = rdd_1_promedios.reduce(lambda x, y: x if x[1] > y[1] else y)\n",
    "rdd_1_alumnos_por_padron.filter(lambda x: x[0] == padron_promedio_max[0])\\\n",
    "    .map(lambda x: (x[0], x[1], padron_promedio_max[1]) )\\\n",
    "    .take(1)"
   ]
  },
  {
   "cell_type": "markdown",
   "metadata": {},
   "source": [
    "##### RESOLUCION 2"
   ]
  },
  {
   "cell_type": "code",
   "execution_count": 164,
   "metadata": {},
   "outputs": [
    {
     "data": {
      "text/plain": [
       "(100498, 'Franco Martin Di Maria', 9.0)"
      ]
     },
     "execution_count": 164,
     "metadata": {},
     "output_type": "execute_result"
    }
   ],
   "source": [
    "rdd_1_alumnos_por_padron = rdd_1_alumnos.map( lambda x: (x[0], x[1] + ' ' + x[2]) )\n",
    "rdd_1_alumnos_por_padron.join(rdd_1_promedios)\\\n",
    "    .map( lambda x: (x[0], x[1][0], x[1][1]) )\\\n",
    "    .reduce( lambda x, y: x if x[2] > y[2] else y )\\"
   ]
  },
  {
   "cell_type": "markdown",
   "metadata": {},
   "source": [
    "## Ejercicio 2"
   ]
  },
  {
   "cell_type": "markdown",
   "metadata": {},
   "source": [
    "2- Se tiene un RDD registros de ventas de producto con la forma (fecha de venta, código de\n",
    "producto, precio de venta) y en otro RDD detalle de los productos con (código de producto,\n",
    "descripción del producto, categoría). Se pide resolver utilizando PySpark:\n",
    "* A. Cuál es el producto más vendido.\n",
    "* B. Cuál es la categoría de productos más vendida.\n",
    "* C. Cuál es el top5 de productos más vendidos generando un RDD con (código de producto, descripción, cantidad de ventas)\n",
    "* D. Cuál es el producto que registró mayor aumento de precio en el último año, tomando para este análisis solo los productos que cuenten con al menos 50 ventas en el último año.\n",
    "* E. Idem anterior, pero calculando la categoría de productos que registró mayor variación de precios en el último año."
   ]
  },
  {
   "cell_type": "markdown",
   "metadata": {},
   "source": [
    "### Sets de datos "
   ]
  },
  {
   "cell_type": "code",
   "execution_count": 208,
   "metadata": {},
   "outputs": [],
   "source": [
    "pre_data_2_ventas = []\n",
    "pre_data_2_detalles = []\n",
    "codigo_productos = [i for i in range(10)]\n",
    "for _ in range (50):\n",
    "    pre_data_2_ventas.append( \n",
    "        ( random_date('2018-1-1', '2019-12-31'), random.choice(codigo_productos), random.uniform(100, 1000) ) \n",
    "    )\n",
    "    pre_data_2_detalles.append( \n",
    "        ( random.choice(codigo_productos), 'Descripcion ...' , random.choice(['Categ. A', 'Categ. B', 'Categ. C']) ) \n",
    "    )\n",
    "rdd_2_ventas = sc.parallelize(pre_data_2_ventas)\n",
    "rdd_2_detalles = sc.parallelize(pre_data_2_detalles)"
   ]
  },
  {
   "cell_type": "markdown",
   "metadata": {},
   "source": [
    "### A. Cuál es el producto más vendido. "
   ]
  },
  {
   "cell_type": "code",
   "execution_count": 216,
   "metadata": {},
   "outputs": [
    {
     "data": {
      "text/plain": [
       "6"
      ]
     },
     "execution_count": 216,
     "metadata": {},
     "output_type": "execute_result"
    }
   ],
   "source": [
    "rdd_2_ventas.map( lambda x: (x[1], 1) )\\\n",
    "    .reduceByKey( lambda x, y: x + y )\\\n",
    "    .reduce(lambda x, y: x if x[1] > y[1] else y)[0]"
   ]
  },
  {
   "cell_type": "markdown",
   "metadata": {},
   "source": [
    "### B. Cuál es la categoría de productos más vendida."
   ]
  },
  {
   "cell_type": "code",
   "execution_count": null,
   "metadata": {},
   "outputs": [],
   "source": []
  }
 ],
 "metadata": {
  "kernelspec": {
   "display_name": "Python 3",
   "language": "python",
   "name": "python3"
  },
  "language_info": {
   "codemirror_mode": {
    "name": "ipython",
    "version": 3
   },
   "file_extension": ".py",
   "mimetype": "text/x-python",
   "name": "python",
   "nbconvert_exporter": "python",
   "pygments_lexer": "ipython3",
   "version": "3.7.3"
  }
 },
 "nbformat": 4,
 "nbformat_minor": 2
}
